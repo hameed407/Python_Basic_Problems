{
 "cells": [
  {
   "cell_type": "code",
   "execution_count": 1,
   "id": "fc071b6a",
   "metadata": {},
   "outputs": [
    {
     "name": "stdout",
     "output_type": "stream",
     "text": [
      "Enter your number: 43\n",
      "Prime Number\n"
     ]
    }
   ],
   "source": [
    "#Prime or Not\n",
    "count = 0\n",
    "x = int(input(\"Enter your number: \")) \n",
    "for i in range(1,x+1):\n",
    "    if x%i == 0:\n",
    "        count = count+1\n",
    "if count == 2:\n",
    "    print(\"Prime Number\")\n",
    "else:\n",
    "    print(\"Not a Prime\") "
   ]
  },
  {
   "cell_type": "code",
   "execution_count": 2,
   "id": "300d2173",
   "metadata": {},
   "outputs": [
    {
     "name": "stdout",
     "output_type": "stream",
     "text": [
      "Enter a number: 2345\n",
      " 2345 is Odd Number\n"
     ]
    }
   ],
   "source": [
    "#Even or Odd\n",
    "n = int(input(\"Enter a number: \"))\n",
    "if n%2 == 0:\n",
    "    print(f'{n} is Even Number')\n",
    "else:\n",
    "    print(f' {n} is Odd Number')"
   ]
  },
  {
   "cell_type": "code",
   "execution_count": 3,
   "id": "635393aa",
   "metadata": {},
   "outputs": [
    {
     "name": "stdout",
     "output_type": "stream",
     "text": [
      "      *\n",
      "     ***\n",
      "    *****\n",
      "   *******\n",
      "  *********\n",
      "   *******\n",
      "    *****\n",
      "     ***\n",
      "      *\n"
     ]
    }
   ],
   "source": [
    "#Diamond pattern\n",
    "x = 6\n",
    "for i in range(1,6):\n",
    "    print((x-i)*\" \", ((i*2)-1)*\"*\")\n",
    "for i in range(4,0,-1):\n",
    "    print((x-i)*\" \", ((i*2)-1)*\"*\")\n"
   ]
  },
  {
   "cell_type": "code",
   "execution_count": 4,
   "id": "5a394650",
   "metadata": {},
   "outputs": [
    {
     "name": "stdout",
     "output_type": "stream",
     "text": [
      "Enter a Number: 2345\n",
      "1\n",
      "5\n",
      "7\n",
      "35\n",
      "67\n",
      "335\n",
      "469\n",
      "2345\n"
     ]
    }
   ],
   "source": [
    "#Factors of number\n",
    "x = int(input(\"Enter a Number: \"))\n",
    "for i in range(1,x+1):\n",
    "    if x%i == 0:\n",
    "        print(i)\n",
    "    "
   ]
  },
  {
   "cell_type": "code",
   "execution_count": 14,
   "id": "79b0d077",
   "metadata": {},
   "outputs": [
    {
     "name": "stdout",
     "output_type": "stream",
     "text": [
      "Enter a Number: 42345\n",
      "Not a Palindrone Number\n"
     ]
    }
   ],
   "source": [
    "#palindrone or not\n",
    "n = int(input(\"Enter a Number: \"))\n",
    "temp = n\n",
    "rev= 0\n",
    "while (n>0):\n",
    "    dig = n%10\n",
    "    rev = rev*10+dig\n",
    "    n = n//10\n",
    "if(temp == rev):\n",
    "    print(\"palindrone Number\")\n",
    "else:\n",
    "    print(\"Not a Palindrone Number\")\n",
    "    "
   ]
  },
  {
   "cell_type": "code",
   "execution_count": 22,
   "id": "fba6743e",
   "metadata": {},
   "outputs": [
    {
     "name": "stdout",
     "output_type": "stream",
     "text": [
      "racecar\n",
      "Palindrone\n"
     ]
    }
   ],
   "source": [
    "n = input()\n",
    "k = \"\"\n",
    "for i in n:\n",
    "    k = i+k #point to remeber\n",
    "    \n",
    "if k == n:\n",
    "    print(\"Palindrone\")\n",
    "else:\n",
    "    print(\"Not a Palindrone\")\n",
    "    "
   ]
  },
  {
   "cell_type": "code",
   "execution_count": null,
   "id": "20cacd10",
   "metadata": {},
   "outputs": [],
   "source": []
  }
 ],
 "metadata": {
  "kernelspec": {
   "display_name": "Python 3 (ipykernel)",
   "language": "python",
   "name": "python3"
  },
  "language_info": {
   "codemirror_mode": {
    "name": "ipython",
    "version": 3
   },
   "file_extension": ".py",
   "mimetype": "text/x-python",
   "name": "python",
   "nbconvert_exporter": "python",
   "pygments_lexer": "ipython3",
   "version": "3.9.12"
  }
 },
 "nbformat": 4,
 "nbformat_minor": 5
}
