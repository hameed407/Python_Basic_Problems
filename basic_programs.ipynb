{
 "cells": [
  {
   "cell_type": "code",
   "execution_count": 1,
   "id": "fbb438b2",
   "metadata": {},
   "outputs": [
    {
     "name": "stdout",
     "output_type": "stream",
     "text": [
      "Enter your number: 665\n",
      "Not a Prime\n"
     ]
    }
   ],
   "source": [
    "#Prime or Not\n",
    "count = 0\n",
    "x = int(input(\"Enter your number: \")) \n",
    "for i in range(1,x+1):\n",
    "    if x%i == 0:\n",
    "        count = count+1\n",
    "if count == 2:\n",
    "    print(\"Prime Number\")\n",
    "else:\n",
    "    print(\"Not a Prime\") "
   ]
  },
  {
   "cell_type": "code",
   "execution_count": null,
   "id": "f9c1363d",
   "metadata": {},
   "outputs": [],
   "source": []
  }
 ],
 "metadata": {
  "kernelspec": {
   "display_name": "Python 3 (ipykernel)",
   "language": "python",
   "name": "python3"
  },
  "language_info": {
   "codemirror_mode": {
    "name": "ipython",
    "version": 3
   },
   "file_extension": ".py",
   "mimetype": "text/x-python",
   "name": "python",
   "nbconvert_exporter": "python",
   "pygments_lexer": "ipython3",
   "version": "3.9.12"
  }
 },
 "nbformat": 4,
 "nbformat_minor": 5
}
