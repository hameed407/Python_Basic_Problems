{
 "cells": [
  {
   "cell_type": "markdown",
   "id": "c77aa1b5",
   "metadata": {},
   "source": [
    "Diamond pattern"
   ]
  },
  {
   "cell_type": "code",
   "execution_count": 6,
   "id": "b0889576",
   "metadata": {},
   "outputs": [
    {
     "name": "stdout",
     "output_type": "stream",
     "text": [
      "19\n",
      "                   *\n",
      "                  ***\n",
      "                 *****\n",
      "                *******\n",
      "               *********\n",
      "              ***********\n",
      "             *************\n",
      "            ***************\n",
      "           *****************\n",
      "          *******************\n",
      "         *********************\n",
      "        ***********************\n",
      "       *************************\n",
      "      ***************************\n",
      "     *****************************\n",
      "    *******************************\n",
      "   *********************************\n",
      "  ***********************************\n",
      " *************************************\n",
      "  ***********************************\n",
      "   *********************************\n",
      "    *******************************\n",
      "     *****************************\n",
      "      ***************************\n",
      "       *************************\n",
      "        ***********************\n",
      "         *********************\n",
      "          *******************\n",
      "           *****************\n",
      "            ***************\n",
      "             *************\n",
      "              ***********\n",
      "               *********\n",
      "                *******\n",
      "                 *****\n",
      "                  ***\n",
      "                   *\n"
     ]
    }
   ],
   "source": [
    "k = int(input())\n",
    "for i in range(1,k):\n",
    "    print((k-i)*\" \",((i*2)-1)*\"*\")\n",
    "for i in range(k,0,-1):\n",
    "    print((k-i)*\" \",((i*2)-1)*\"*\")"
   ]
  },
  {
   "cell_type": "markdown",
   "id": "d54140ef",
   "metadata": {},
   "source": [
    "# Prime num or not"
   ]
  },
  {
   "cell_type": "code",
   "execution_count": 9,
   "id": "abc1f822",
   "metadata": {},
   "outputs": [
    {
     "name": "stdout",
     "output_type": "stream",
     "text": [
      "Enter your number: 2\n",
      "2 is prime number\n"
     ]
    }
   ],
   "source": [
    "num = int(input(\"Enter your number: \"))\n",
    "count = 0\n",
    "for i in range(1,num+1):\n",
    "    if num%i==0:\n",
    "        count += 1\n",
    "if count == 2:\n",
    "    print(f\"{num} is prime number\")\n",
    "else:\n",
    "    print(f\"{num} is not a prime number\")"
   ]
  },
  {
   "cell_type": "markdown",
   "id": "affa4f75",
   "metadata": {},
   "source": [
    "# Prime Number upto given Range"
   ]
  },
  {
   "cell_type": "code",
   "execution_count": 18,
   "id": "52fffcf8",
   "metadata": {},
   "outputs": [
    {
     "name": "stdout",
     "output_type": "stream",
     "text": [
      "1009\n",
      "1013\n",
      "1019\n",
      "1021\n",
      "1031\n",
      "1033\n",
      "1039\n",
      "1049\n",
      "1051\n",
      "1061\n",
      "1063\n",
      "1069\n",
      "1087\n",
      "1091\n",
      "1093\n",
      "1097\n",
      "1103\n",
      "1109\n",
      "1117\n",
      "1123\n",
      "1129\n",
      "1151\n",
      "1153\n",
      "1163\n",
      "1171\n",
      "1181\n",
      "1187\n",
      "1193\n",
      "1201\n",
      "1213\n",
      "1217\n",
      "1223\n",
      "1229\n",
      "1231\n",
      "1237\n",
      "1249\n",
      "1259\n",
      "1277\n",
      "1279\n",
      "1283\n",
      "1289\n",
      "1291\n",
      "1297\n",
      "1301\n",
      "1303\n",
      "1307\n",
      "1319\n",
      "1321\n",
      "1327\n",
      "1361\n",
      "1367\n",
      "1373\n",
      "1381\n",
      "1399\n",
      "1409\n",
      "1423\n",
      "1427\n",
      "1429\n",
      "1433\n",
      "1439\n",
      "1447\n",
      "1451\n",
      "1453\n",
      "1459\n",
      "1471\n",
      "1481\n",
      "1483\n",
      "1487\n",
      "1489\n",
      "1493\n",
      "1499\n",
      "1511\n",
      "1523\n",
      "1531\n",
      "1543\n",
      "1549\n",
      "1553\n",
      "1559\n",
      "1567\n",
      "1571\n",
      "1579\n",
      "1583\n",
      "1597\n",
      "1601\n",
      "1607\n",
      "1609\n",
      "1613\n",
      "1619\n",
      "1621\n",
      "1627\n",
      "1637\n",
      "1657\n",
      "1663\n",
      "1667\n",
      "1669\n",
      "1693\n",
      "1697\n",
      "1699\n",
      "1709\n",
      "1721\n",
      "1723\n",
      "1733\n",
      "1741\n",
      "1747\n",
      "1753\n",
      "1759\n",
      "1777\n",
      "1783\n",
      "1787\n",
      "1789\n",
      "1801\n",
      "1811\n",
      "1823\n",
      "1831\n",
      "1847\n",
      "1861\n",
      "1867\n",
      "1871\n",
      "1873\n",
      "1877\n",
      "1879\n",
      "1889\n",
      "1901\n",
      "1907\n",
      "1913\n",
      "1931\n",
      "1933\n",
      "1949\n",
      "1951\n",
      "1973\n",
      "1979\n",
      "1987\n",
      "1993\n",
      "1997\n",
      "1999\n"
     ]
    }
   ],
   "source": [
    "lower = 1000\n",
    "upper = 2000\n",
    "for i in range(lower,upper+1):\n",
    "    if i>1:\n",
    "        for j in range(2,i):\n",
    "            if i%j==0:\n",
    "                break\n",
    "        else:\n",
    "            print(i)\n",
    "    "
   ]
  },
  {
   "cell_type": "markdown",
   "id": "25851274",
   "metadata": {},
   "source": [
    "# Factorial of a given number"
   ]
  },
  {
   "cell_type": "code",
   "execution_count": 22,
   "id": "5116e8b0",
   "metadata": {},
   "outputs": [
    {
     "name": "stdout",
     "output_type": "stream",
     "text": [
      "Enter your Number: 6\n",
      "Factorial of 6 is 720\n"
     ]
    }
   ],
   "source": [
    "num = int(input(\"Enter your Number: \"))\n",
    "factorial = 1\n",
    "for i in range(1,num+1):\n",
    "    factorial = factorial*i\n",
    "print(f\"Factorial of {num} is\", factorial)"
   ]
  },
  {
   "cell_type": "markdown",
   "id": "05ea5751",
   "metadata": {},
   "source": [
    "# Star Patterns"
   ]
  },
  {
   "cell_type": "code",
   "execution_count": 45,
   "id": "0b4b045e",
   "metadata": {},
   "outputs": [
    {
     "name": "stdout",
     "output_type": "stream",
     "text": [
      "7\n",
      "       *\n",
      "      **\n",
      "     ***\n",
      "    ****\n",
      "   *****\n",
      "  ******\n",
      " *******\n",
      "  ******\n",
      "   *****\n",
      "    ****\n",
      "     ***\n",
      "      **\n",
      "       *\n"
     ]
    }
   ],
   "source": [
    "n = int(input())\n",
    "for i in range(1,n+1):\n",
    "    print((n-i)*\" \", i*\"*\")\n",
    "for i in range(n-1,0,-1):\n",
    "    print((n-i)*\" \", i*\"*\")"
   ]
  },
  {
   "cell_type": "code",
   "execution_count": 38,
   "id": "77cb7d60",
   "metadata": {},
   "outputs": [
    {
     "name": "stdout",
     "output_type": "stream",
     "text": [
      "19\n",
      "                   *\n",
      "                  **\n",
      "                 ***\n",
      "                ****\n",
      "               *****\n",
      "              ******\n",
      "             *******\n",
      "            ********\n",
      "           *********\n",
      "          **********\n",
      "         ***********\n",
      "        ************\n",
      "       *************\n",
      "      **************\n",
      "     ***************\n",
      "    ****************\n",
      "   *****************\n",
      "  ******************\n",
      " *******************\n"
     ]
    }
   ],
   "source": [
    "n = int(input())\n",
    "for i in range(1,n+1):\n",
    "    print((n-i)*\" \", i*\"*\")"
   ]
  },
  {
   "cell_type": "code",
   "execution_count": 47,
   "id": "63210716",
   "metadata": {},
   "outputs": [
    {
     "name": "stdout",
     "output_type": "stream",
     "text": [
      "Enter a Number: 9\n",
      "*         \n",
      "**        \n",
      "***       \n",
      "****      \n",
      "*****     \n",
      "******    \n",
      "*******   \n",
      "********  \n",
      "********* \n",
      "********  \n",
      "*******   \n",
      "******    \n",
      "*****     \n",
      "****      \n",
      "***       \n",
      "**        \n",
      "*         \n"
     ]
    }
   ],
   "source": [
    "n = int(input(\"Enter a Number: \"))\n",
    "for i in range(1,n+1):\n",
    "    print(i*\"*\",(n-i)*\" \")\n",
    "for i in range(n-1,0,-1):\n",
    "    print(i*\"*\",(n-i)*\" \")"
   ]
  },
  {
   "cell_type": "markdown",
   "id": "e9259c08",
   "metadata": {},
   "source": [
    "# Fibonacci"
   ]
  },
  {
   "cell_type": "code",
   "execution_count": 13,
   "id": "9b48906e",
   "metadata": {},
   "outputs": [
    {
     "name": "stdout",
     "output_type": "stream",
     "text": [
      "Enter your number: 24\n",
      "1 1 2 3 5 8 13 21 34 55 89 144 233 377 610 987 1597 2584 4181 6765 10946 17711 28657 46368 "
     ]
    }
   ],
   "source": [
    "def fibonacci(x):\n",
    "    if x<=1:\n",
    "        return x\n",
    "    else: return fibonacci(x-1)+fibonacci(x-2)\n",
    "    \n",
    "n = int(input(\"Enter your number: \"))\n",
    "if n<=0:\n",
    "    print(\"Enter a positive integr: \")\n",
    "else:\n",
    "    for i in range(1,n+1):\n",
    "        print(fibonacci(i), end=\" \" )"
   ]
  },
  {
   "cell_type": "markdown",
   "id": "4b506444",
   "metadata": {},
   "source": [
    "# Check Wheather a String is palindrone or Not"
   ]
  },
  {
   "cell_type": "code",
   "execution_count": 16,
   "id": "f3b86561",
   "metadata": {},
   "outputs": [
    {
     "name": "stdout",
     "output_type": "stream",
     "text": [
      "Enter your String: jsdfjlas\n",
      "saljfdsj is not Palindrone\n"
     ]
    }
   ],
   "source": [
    "str1 = input(\"Enter your String: \")\n",
    "str2 = \"\"\n",
    "for i in str1:\n",
    "    str2 = i+str2\n",
    "if str1 == str2:\n",
    "    print(f\"{str1} is Palindrone\")\n",
    "else:\n",
    "    print(f\"{str2} is not Palindrone\")"
   ]
  },
  {
   "cell_type": "markdown",
   "id": "039dd8b7",
   "metadata": {},
   "source": [
    "# Check Wheather a Number is Palindrone or Not"
   ]
  },
  {
   "cell_type": "code",
   "execution_count": 22,
   "id": "ae7805c0",
   "metadata": {},
   "outputs": [
    {
     "name": "stdout",
     "output_type": "stream",
     "text": [
      "Enter your Number: 17171\n",
      " Number is Palindron\n"
     ]
    }
   ],
   "source": [
    "num = int(input(\"Enter your Number: \"))\n",
    "reverse = 0\n",
    "temp = num\n",
    "while num>0:\n",
    "    digit = num%10\n",
    "    reverse = reverse*10 + digit\n",
    "    num = num//10\n",
    "if temp == reverse:\n",
    "    print(\" Number is Palindron\")\n",
    "else:\n",
    "    print(\"Number is Not a Palindrone\")"
   ]
  },
  {
   "cell_type": "code",
   "execution_count": null,
   "id": "7ca2a933",
   "metadata": {},
   "outputs": [],
   "source": []
  }
 ],
 "metadata": {
  "kernelspec": {
   "display_name": "Python 3 (ipykernel)",
   "language": "python",
   "name": "python3"
  },
  "language_info": {
   "codemirror_mode": {
    "name": "ipython",
    "version": 3
   },
   "file_extension": ".py",
   "mimetype": "text/x-python",
   "name": "python",
   "nbconvert_exporter": "python",
   "pygments_lexer": "ipython3",
   "version": "3.9.12"
  }
 },
 "nbformat": 4,
 "nbformat_minor": 5
}
