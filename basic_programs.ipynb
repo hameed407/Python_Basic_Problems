{
 "cells": [
  {
   "cell_type": "code",
   "execution_count": 1,
   "id": "fc071b6a",
   "metadata": {},
   "outputs": [
    {
     "name": "stdout",
     "output_type": "stream",
     "text": [
      "Enter your number: 313\n",
      "Prime Number\n"
     ]
    }
   ],
   "source": [
    "#Prime or Not\n",
    "count = 0\n",
    "x = int(input(\"Enter your number: \")) \n",
    "for i in range(1,x+1):\n",
    "    if x%i == 0:\n",
    "        count = count+1\n",
    "if count == 2:\n",
    "    print(\"Prime Number\")\n",
    "else:\n",
    "    print(\"Not a Prime\") "
   ]
  },
  {
   "cell_type": "code",
   "execution_count": 2,
   "id": "300d2173",
   "metadata": {},
   "outputs": [
    {
     "name": "stdout",
     "output_type": "stream",
     "text": [
      "Enter a number: 1233\n",
      " 1233 is Odd Number\n"
     ]
    }
   ],
   "source": [
    "#Even or Odd\n",
    "n = int(input(\"Enter a number: \"))\n",
    "if n%2 == 0:\n",
    "    print(f'{n} is Even Number')\n",
    "else:\n",
    "    print(f' {n} is Odd Number')"
   ]
  },
  {
   "cell_type": "code",
   "execution_count": 3,
   "id": "635393aa",
   "metadata": {},
   "outputs": [
    {
     "name": "stdout",
     "output_type": "stream",
     "text": [
      "      *\n",
      "     ***\n",
      "    *****\n",
      "   *******\n",
      "  *********\n",
      "   *******\n",
      "    *****\n",
      "     ***\n",
      "      *\n"
     ]
    }
   ],
   "source": [
    "#Diamond pattern\n",
    "x = 6\n",
    "for i in range(1,6):\n",
    "    print((x-i)*\" \", ((i*2)-1)*\"*\")\n",
    "for i in range(4,0,-1):\n",
    "    print((x-i)*\" \", ((i*2)-1)*\"*\")\n"
   ]
  },
  {
   "cell_type": "code",
   "execution_count": 4,
   "id": "5a394650",
   "metadata": {},
   "outputs": [
    {
     "name": "stdout",
     "output_type": "stream",
     "text": [
      "Enter a Number: 13\n",
      "1\n",
      "13\n"
     ]
    }
   ],
   "source": [
    "#Factors of number\n",
    "x = int(input(\"Enter a Number: \"))\n",
    "for i in range(1,x+1):\n",
    "    if x%i == 0:\n",
    "        print(i)\n",
    "    "
   ]
  },
  {
   "cell_type": "code",
   "execution_count": 6,
   "id": "a492bb8c",
   "metadata": {},
   "outputs": [
    {
     "name": "stdout",
     "output_type": "stream",
     "text": [
      "Enter a Number: 5\n",
      "factorial of 5 is 120\n"
     ]
    }
   ],
   "source": [
    "#Factorial\n",
    "num = int(input(\"Enter a Number: \"))\n",
    "factorial = 1\n",
    "for i in range(1,num+1):\n",
    "    factorial = factorial*i\n",
    "print(f\"factorial of {num} is\", factorial)"
   ]
  },
  {
   "cell_type": "code",
   "execution_count": 7,
   "id": "79b0d077",
   "metadata": {},
   "outputs": [
    {
     "name": "stdout",
     "output_type": "stream",
     "text": [
      "Enter a Number: 23423\n",
      "Not a Palindrone Number\n"
     ]
    }
   ],
   "source": [
    "#palindrone or not\n",
    "n = int(input(\"Enter a Number: \"))\n",
    "temp = n\n",
    "rev= 0\n",
    "while (n>0):\n",
    "    dig = n%10\n",
    "    rev = rev*10+dig\n",
    "    n = n//10\n",
    "if(temp == rev):\n",
    "    print(\"palindrone Number\")\n",
    "else:\n",
    "    print(\"Not a Palindrone Number\")\n",
    "    "
   ]
  },
  {
   "cell_type": "code",
   "execution_count": 8,
   "id": "fba6743e",
   "metadata": {},
   "outputs": [
    {
     "name": "stdout",
     "output_type": "stream",
     "text": [
      "342\n",
      "342 Not a Palindrone\n"
     ]
    }
   ],
   "source": [
    "#Palindrone string or not\n",
    "n = input()\n",
    "strg = \"\"\n",
    "for i in n:\n",
    "    strg = i+strg\n",
    "if strg == n:\n",
    "    print(f\"{n} is palindrone\")\n",
    "else:\n",
    "    print(f\"{n} Not a Palindrone\")\n",
    "    "
   ]
  },
  {
   "cell_type": "code",
   "execution_count": 5,
   "id": "428ed519",
   "metadata": {},
   "outputs": [
    {
     "name": "stdout",
     "output_type": "stream",
     "text": [
      "Prime number between 900 and 1000\n",
      "907\n",
      "911\n",
      "919\n",
      "929\n",
      "937\n",
      "941\n",
      "947\n",
      "953\n",
      "967\n",
      "971\n",
      "977\n",
      "983\n",
      "991\n",
      "997\n"
     ]
    }
   ],
   "source": [
    "#Prime Number upto given range\n",
    "lower = 900\n",
    "upper = 1000\n",
    "print(\"Prime number between\",lower,\"and\",upper)\n",
    "for num in range(lower, upper+1):\n",
    "    if num>1:\n",
    "        for i in range(2,num):\n",
    "            if num%i==0:\n",
    "                break\n",
    "        else:\n",
    "            print(num)"
   ]
  },
  {
   "cell_type": "code",
   "execution_count": 1,
   "id": "9ee00cf8",
   "metadata": {},
   "outputs": [
    {
     "name": "stdout",
     "output_type": "stream",
     "text": [
      "{'a': 6, 'k': 1, 'l': 1, 'j': 1, 'd': 3, 'f': 2, 's': 4, 'q': 1, 'w': 1, 'e': 1}\n"
     ]
    }
   ],
   "source": [
    "#find the repeated character in a string python\n",
    "st = \"akljdfasdasasasadfqwe\"\n",
    "ch = {}\n",
    "for char in st:\n",
    "    if char not in ch:\n",
    "        ch[char] = 1\n",
    "    else: \n",
    "        ch[char] += 1\n",
    "        \n",
    "print(ch)"
   ]
  },
  {
   "cell_type": "code",
   "execution_count": 11,
   "id": "80b74f2b",
   "metadata": {},
   "outputs": [
    {
     "name": "stdout",
     "output_type": "stream",
     "text": [
      "dlrow oleH\n"
     ]
    }
   ],
   "source": [
    "#REverse the given string\n",
    "st = \"Helo world\"[::-1]\n",
    "print(st)"
   ]
  },
  {
   "cell_type": "code",
   "execution_count": 14,
   "id": "a6b7d5b0",
   "metadata": {},
   "outputs": [
    {
     "name": "stdout",
     "output_type": "stream",
     "text": [
      "5\n",
      "120\n"
     ]
    }
   ],
   "source": [
    "#Factorial\n",
    "n = int(input())\n",
    "fact = 1\n",
    "for i in range(1,n+1):\n",
    "    fact = fact*i\n",
    "print(fact)"
   ]
  },
  {
   "cell_type": "code",
   "execution_count": 15,
   "id": "1bfab9ee",
   "metadata": {},
   "outputs": [
    {
     "name": "stdout",
     "output_type": "stream",
     "text": [
      "232432\n",
      "not palindrone\n"
     ]
    }
   ],
   "source": [
    "#Palindrone string\n",
    "strr = input()\n",
    "st = \"\"\n",
    "for i in strr:\n",
    "    st = i+st\n",
    "if strr == st:\n",
    "    print('palindrone')\n",
    "else:\n",
    "    print('not palindrone')"
   ]
  },
  {
   "cell_type": "code",
   "execution_count": 16,
   "id": "8fdf3bf3",
   "metadata": {},
   "outputs": [
    {
     "name": "stdout",
     "output_type": "stream",
     "text": [
      "h\n",
      "eh\n",
      "leh\n",
      "lleh\n",
      "olleh\n"
     ]
    }
   ],
   "source": [
    "c=\"hello\"\n",
    "k = \"\"\n",
    "for i in c:\n",
    "    k=i+k\n",
    "    print(k)"
   ]
  },
  {
   "cell_type": "code",
   "execution_count": 18,
   "id": "028dd33c",
   "metadata": {},
   "outputs": [
    {
     "name": "stdout",
     "output_type": "stream",
     "text": [
      "34323\n",
      "Not a Palindrone\n"
     ]
    }
   ],
   "source": [
    "k = int(input())\n",
    "rev = 0\n",
    "temp = k\n",
    "while k>0:\n",
    "    dig = k%10\n",
    "    rev = rev*10+dig\n",
    "    k = k//10\n",
    "if rev == temp:\n",
    "    print(\"Palindrone\")\n",
    "else:\n",
    "    print(\"Not a Palindrone\")"
   ]
  },
  {
   "cell_type": "code",
   "execution_count": 19,
   "id": "41f4036c",
   "metadata": {},
   "outputs": [
    {
     "name": "stdout",
     "output_type": "stream",
     "text": [
      "{'j': 4, 'd': 3, 'k': 4, 'a': 1, 's': 2, 'f': 2, 'l': 1, ' ': 1, 'm': 1, 'p': 1, 'o': 2}\n"
     ]
    }
   ],
   "source": [
    "k = \"jdkjasdkflkj dsfkmpojo\"\n",
    "ch = {}\n",
    "for i in k:\n",
    "    if i not in ch:\n",
    "        ch[i] = 1\n",
    "    else:\n",
    "        ch[i] += 1\n",
    "print(ch)"
   ]
  },
  {
   "cell_type": "code",
   "execution_count": 20,
   "id": "b9b8cd56",
   "metadata": {},
   "outputs": [
    {
     "name": "stdout",
     "output_type": "stream",
     "text": [
      "4\n",
      "1  2  3  "
     ]
    }
   ],
   "source": [
    "#Fibonacci\n",
    "n = int(input())\n",
    "n1=0\n",
    "n2=1\n",
    "n3=n2\n",
    "count = 1\n",
    "while count<n:\n",
    "    print(n3,end=\" \")\n",
    "    count = count+1\n",
    "    n1,n2 = n2, n3\n",
    "    n3 = n1+n2\n",
    "    print(end=\" \")"
   ]
  },
  {
   "cell_type": "code",
   "execution_count": 2,
   "id": "fdb929e7",
   "metadata": {},
   "outputs": [
    {
     "name": "stdout",
     "output_type": "stream",
     "text": [
      "6765\n"
     ]
    }
   ],
   "source": [
    "def Fibonacci(n):\n",
    "\n",
    "\t# Check if input is 0 then it will\n",
    "\t# print incorrect input\n",
    "\tif n < 0:\n",
    "\t\tprint(\"Incorrect input\")\n",
    "\n",
    "\t# Check if n is 0\n",
    "\t# then it will return 0\n",
    "\telif n == 0:\n",
    "\t\treturn 0\n",
    "\n",
    "\t# Check if n is 1,2\n",
    "\t# it will return 1\n",
    "\telif n == 1 or n == 2:\n",
    "\t\treturn 1\n",
    "\n",
    "\telse:\n",
    "\t\treturn Fibonacci(n-1) + Fibonacci(n-2)\n",
    "\n",
    "\n",
    "# Driver Program\n",
    "print(Fibonacci(20))\n"
   ]
  },
  {
   "cell_type": "code",
   "execution_count": 9,
   "id": "a68a4004",
   "metadata": {},
   "outputs": [],
   "source": [
    "s1 = \"listen\"\n",
    "s2 = \"silent\"\n",
    "\n",
    "def check_anagrams(s1,s2):\n",
    "    if(sorted(s1) == sorted(s2)):\n",
    "       print(\"strings are anagrams\")\n",
    "    else: \n",
    "       print(\"string are not anagrams\")"
   ]
  },
  {
   "cell_type": "code",
   "execution_count": 10,
   "id": "1ddaf409",
   "metadata": {},
   "outputs": [
    {
     "name": "stdout",
     "output_type": "stream",
     "text": [
      "strings are anagrams\n"
     ]
    }
   ],
   "source": [
    "check_anagrams(s1,s2)"
   ]
  },
  {
   "cell_type": "code",
   "execution_count": null,
   "id": "acb9ad14",
   "metadata": {},
   "outputs": [],
   "source": []
  }
 ],
 "metadata": {
  "kernelspec": {
   "display_name": "Python 3 (ipykernel)",
   "language": "python",
   "name": "python3"
  },
  "language_info": {
   "codemirror_mode": {
    "name": "ipython",
    "version": 3
   },
   "file_extension": ".py",
   "mimetype": "text/x-python",
   "name": "python",
   "nbconvert_exporter": "python",
   "pygments_lexer": "ipython3",
   "version": "3.9.12"
  }
 },
 "nbformat": 4,
 "nbformat_minor": 5
}
