{
 "cells": [
  {
   "cell_type": "code",
   "execution_count": 1,
   "id": "e9251e2c",
   "metadata": {},
   "outputs": [],
   "source": [
    "x = \"h123pq29rst7p89\"\n",
    "for i in x:\n",
    "    if i==type(int):\n",
    "        print()"
   ]
  },
  {
   "cell_type": "code",
   "execution_count": 2,
   "id": "1e60b1ff",
   "metadata": {},
   "outputs": [],
   "source": [
    "h = [\"ak\", \"8\", \"pd\"]"
   ]
  },
  {
   "cell_type": "code",
   "execution_count": 4,
   "id": "7e31c7af",
   "metadata": {},
   "outputs": [
    {
     "data": {
      "text/plain": [
       "'ak-8-pd'"
      ]
     },
     "execution_count": 4,
     "metadata": {},
     "output_type": "execute_result"
    }
   ],
   "source": [
    "\"-\".join(h)"
   ]
  },
  {
   "cell_type": "code",
   "execution_count": 6,
   "id": "99c52a74",
   "metadata": {},
   "outputs": [
    {
     "data": {
      "text/plain": [
       "['python', 'java', 'javascript']"
      ]
     },
     "execution_count": 6,
     "metadata": {},
     "output_type": "execute_result"
    }
   ],
   "source": [
    "k = \"python java javascript\"\n",
    "k.split()"
   ]
  },
  {
   "cell_type": "code",
   "execution_count": 19,
   "id": "49129062",
   "metadata": {},
   "outputs": [],
   "source": [
    "x = \"new12hy345ki80\"\n",
    "main = []\n",
    "p = []\n",
    "for i in x:\n",
    "    if i.isnumeric():\n",
    "        p.append(i)\n",
    "    elif len(p)>0:\n",
    "        main.append(int(\"\".join(p)))\n",
    "        p.clear()\n",
    "        \n",
    "if len(p)>0:\n",
    "    main.append(int(\"\".join(p)))\n",
    "    p.clear()\n",
    "    "
   ]
  },
  {
   "cell_type": "code",
   "execution_count": 20,
   "id": "787fb8e4",
   "metadata": {},
   "outputs": [
    {
     "data": {
      "text/plain": [
       "[12, 345, 80]"
      ]
     },
     "execution_count": 20,
     "metadata": {},
     "output_type": "execute_result"
    }
   ],
   "source": [
    "main"
   ]
  },
  {
   "cell_type": "code",
   "execution_count": 21,
   "id": "f197982e",
   "metadata": {},
   "outputs": [
    {
     "data": {
      "text/plain": [
       "437"
      ]
     },
     "execution_count": 21,
     "metadata": {},
     "output_type": "execute_result"
    }
   ],
   "source": [
    "sum(main)"
   ]
  },
  {
   "cell_type": "code",
   "execution_count": 28,
   "id": "16ac13ce",
   "metadata": {},
   "outputs": [],
   "source": [
    "actual = [1,0,0,1,1,1,0,0,1,1,0]\n",
    "predict = [0,0,1,1,0,1,0,1,1,0,1]"
   ]
  },
  {
   "cell_type": "code",
   "execution_count": 29,
   "id": "f44d3790",
   "metadata": {},
   "outputs": [],
   "source": [
    "from sklearn.metrics import confusion_matrix"
   ]
  },
  {
   "cell_type": "code",
   "execution_count": 38,
   "id": "5b8ec095",
   "metadata": {},
   "outputs": [
    {
     "data": {
      "text/plain": [
       "array([[2, 3],\n",
       "       [3, 3]], dtype=int64)"
      ]
     },
     "execution_count": 38,
     "metadata": {},
     "output_type": "execute_result"
    }
   ],
   "source": [
    "cm = confusion_matrix(y_true = actual, y_pred = predict)\n",
    "cm"
   ]
  },
  {
   "cell_type": "code",
   "execution_count": 36,
   "id": "56e6e98a",
   "metadata": {},
   "outputs": [],
   "source": [
    "# TN FP\n",
    "# FN TP"
   ]
  },
  {
   "cell_type": "code",
   "execution_count": 37,
   "id": "908e2186",
   "metadata": {},
   "outputs": [
    {
     "data": {
      "text/plain": [
       "2"
      ]
     },
     "execution_count": 37,
     "metadata": {},
     "output_type": "execute_result"
    }
   ],
   "source": [
    "tn = cm[0,0]\n",
    "tn"
   ]
  },
  {
   "cell_type": "code",
   "execution_count": 40,
   "id": "29a7d8af",
   "metadata": {},
   "outputs": [],
   "source": [
    "fp, fn, tp = cm[0,1], cm[1,0], cm[1,1]"
   ]
  },
  {
   "cell_type": "code",
   "execution_count": 41,
   "id": "265095e1",
   "metadata": {},
   "outputs": [
    {
     "data": {
      "text/plain": [
       "3"
      ]
     },
     "execution_count": 41,
     "metadata": {},
     "output_type": "execute_result"
    }
   ],
   "source": [
    "fp"
   ]
  },
  {
   "cell_type": "code",
   "execution_count": 42,
   "id": "28b3581b",
   "metadata": {},
   "outputs": [
    {
     "data": {
      "text/plain": [
       "3"
      ]
     },
     "execution_count": 42,
     "metadata": {},
     "output_type": "execute_result"
    }
   ],
   "source": [
    "fn"
   ]
  },
  {
   "cell_type": "code",
   "execution_count": 43,
   "id": "f009e999",
   "metadata": {},
   "outputs": [
    {
     "data": {
      "text/plain": [
       "3"
      ]
     },
     "execution_count": 43,
     "metadata": {},
     "output_type": "execute_result"
    }
   ],
   "source": [
    "tp"
   ]
  },
  {
   "cell_type": "code",
   "execution_count": 50,
   "id": "099bec1e",
   "metadata": {},
   "outputs": [
    {
     "data": {
      "text/plain": [
       "0.5"
      ]
     },
     "execution_count": 50,
     "metadata": {},
     "output_type": "execute_result"
    }
   ],
   "source": [
    "#Precision  = TP/TP+FP\n",
    "\n",
    "precision = tp/(tp+fp)\n",
    "precision"
   ]
  },
  {
   "cell_type": "code",
   "execution_count": 51,
   "id": "db0d036c",
   "metadata": {},
   "outputs": [
    {
     "data": {
      "text/plain": [
       "0.5"
      ]
     },
     "execution_count": 51,
     "metadata": {},
     "output_type": "execute_result"
    }
   ],
   "source": [
    "#RECALL = TP/TP+FN\n",
    "recall = tp/(tp+fn)\n",
    "recall"
   ]
  },
  {
   "cell_type": "code",
   "execution_count": 55,
   "id": "c94778ee",
   "metadata": {},
   "outputs": [
    {
     "data": {
      "text/plain": [
       "1.5"
      ]
     },
     "execution_count": 55,
     "metadata": {},
     "output_type": "execute_result"
    }
   ],
   "source": [
    "#F-Beta score\n",
    "#f1-score\n",
    "((1+(1)**2)*(precision*recall))/((1)**2*precision)+recall"
   ]
  },
  {
   "cell_type": "code",
   "execution_count": 66,
   "id": "e6f79422",
   "metadata": {},
   "outputs": [],
   "source": [
    "def myconfusion_matrix(actual, predict):\n",
    "\n",
    "    tp = 0\n",
    "    fp = 0\n",
    "    fn = 0\n",
    "    tn = 0\n",
    "    for i in range(len(actual)):\n",
    "        if actual[i] == 1 and predict[i] == 1:\n",
    "            tp = tp+1\n",
    "        if actual[i] == 0 and predict[i] == 1:\n",
    "            fp = fp+1\n",
    "        if actual[i] == 1 and predict[i] == 0:\n",
    "            fn = fn+1\n",
    "        if actual[i] == 0 and predict[i] == 0:\n",
    "            tn = tn+1\n",
    "    return {\"tp\":tp, \"fp\":fp,\"fn\": fn,\"tn\": tn}"
   ]
  },
  {
   "cell_type": "code",
   "execution_count": 67,
   "id": "cea2356b",
   "metadata": {},
   "outputs": [
    {
     "data": {
      "text/plain": [
       "{'tp': 3, 'fp': 3, 'fn': 3, 'tn': 2}"
      ]
     },
     "execution_count": 67,
     "metadata": {},
     "output_type": "execute_result"
    }
   ],
   "source": [
    "myconfusion_matrix(actual, predict)"
   ]
  },
  {
   "cell_type": "code",
   "execution_count": null,
   "id": "19c5be48",
   "metadata": {},
   "outputs": [],
   "source": []
  }
 ],
 "metadata": {
  "kernelspec": {
   "display_name": "Python 3 (ipykernel)",
   "language": "python",
   "name": "python3"
  },
  "language_info": {
   "codemirror_mode": {
    "name": "ipython",
    "version": 3
   },
   "file_extension": ".py",
   "mimetype": "text/x-python",
   "name": "python",
   "nbconvert_exporter": "python",
   "pygments_lexer": "ipython3",
   "version": "3.9.12"
  }
 },
 "nbformat": 4,
 "nbformat_minor": 5
}
